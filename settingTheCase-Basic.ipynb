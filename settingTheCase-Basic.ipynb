{
 "cells": [
  {
   "cell_type": "markdown",
   "metadata": {},
   "source": [
    "# Calculation of turbulence boundary conditions"
   ]
  },
  {
   "cell_type": "markdown",
   "metadata": {},
   "source": [
    "Using the $k-\\epsilon$ model one need to specify the inlet value for such quantites. Given the $Re$\n",
    "$$\\begin{align*}\n",
    "k = \\frac{1}{2}{\\bf U}^{\\prime} \\cdot {\\bf U}^{\\prime}\n",
    "\\\\\n",
    "\\epsilon = C_{\\mu}^{0.75} \\frac{k^{3/2}}{l_t}\n",
    "\\end{align*}$$\n",
    "and\n",
    "$$\\begin{equation*}\n",
    "\\nu_t = C_{\\mu} \\frac{k^2}{\\epsilon}\n",
    "\\end{equation*}$$\n",
    "\n",
    "$\\nu_t$ can be calcaulated from  the turbulence intensity and length scale\n",
    "$$\\nu_t = \\sqrt{\\frac{3}{2}} \\left( uIl_t\\right )$$"
   ]
  },
  {
   "cell_type": "markdown",
   "metadata": {},
   "source": [
    "Another importamt quantity to set the time step $\\Delta t$, that can be computed based on Courant Number $Co$\n",
    "\n",
    "$$\\Delta t = Co \\frac{\\Delta x}{u}$$\n",
    "\n",
    "Another parameter is Acoustic Co number defined as\n",
    "\n",
    "$$Co_{acoustic} = \\frac{\\Delta t}{\\Delta x \\sqrt{\\psi}}$$\n",
    "\n",
    "On the same lines $\\omega$ is give as\n",
    "$$\\omega = \\frac{C_{\\mu}\\sqrt{k}}{l_t}$$\n",
    "\n",
    "\n",
    "$$\\omega_{wall} = 10\\frac{6 \\nu}{\\beta_1 (\\Delta d_1)^2}$$\n",
    "\n",
    "where $\\beta_1 = 0.075$, where $\\Delta d_1$ is the distance to the next point away from the wall.\n",
    "\n",
    "\n",
    "While $I$  is the initial turbulence intensity [%] can be computed as\n",
    "$$I=0.16Re^{-{\\frac {1}{8}}}$$"
   ]
  },
  {
   "cell_type": "markdown",
   "metadata": {},
   "source": [
    "In compressible and heat transfer problems, one also need to specify the turbulent Prandl number $Pr_t$. Generally it can be assumed 0.7 to 0.85. A better relations for liquids is given as\n",
    "$$Pr_t = 6.374Re^{-0.238} Pr^{-0.161}$$\n",
    "In case of compressibleInterFoam solver, we need to specify alphat $\\alpha_t$, which is given by\n",
    "$$\\alpha_t = \\frac{\\nu_t}{Pr_t}$$"
   ]
  },
  {
   "cell_type": "markdown",
   "metadata": {},
   "source": [
    "# Calculating first grid point based on yPlus"
   ]
  },
  {
   "cell_type": "markdown",
   "metadata": {},
   "source": [
    "The yPlus relation is given by\n",
    "$$y^+ = \\Delta s \\frac{u^* \\mu}{\\rho} $$\n",
    "where $\\Delta s$ is the distance to first grid point. $u^*$ is the friction velocity explained below. Given a $y^+$ we can estimate the $\\Delta s$ as\n",
    "$$\\Delta s = \\frac{y^+ \\mu}{u^* \\rho}$$\n",
    "\n",
    "## yPlus from WolfDynamics\n",
    "Compute skin friction coefficeint $C_f$\n",
    "\n",
    "For plates we can write\n",
    "$$C_f = 0.058 \\times Re^{-0.2}$$\n",
    "Then calculate the wall shear stress $\\tau_w$\n",
    "$$\\tau_w = \\frac{1}{2} \\times C_f \\times \\rho \\times U^2_{\\infty} $$\n",
    "The calculate the friction velocity $U_\\tau$\n",
    "$$U_{\\tau} = \\sqrt{\\frac{\\tau_w}{\\rho}}$$\n",
    "Finally get the distance $y$ to have a specified $y^+$\n",
    "$$y = \\frac{\\mu \\times y^+ }{\\rho \\times U_{\\tau}}$$"
   ]
  },
  {
   "cell_type": "markdown",
   "metadata": {},
   "source": [
    "# Using the applyBoundaryLayer pre-processing to apply 1/7 power law profile"
   ]
  },
  {
   "cell_type": "markdown",
   "metadata": {},
   "source": [
    "For such a case, one need to specify -ybl value, which is the with of viscous sub layer ($\\delta_{vsc}$), which can be computed using the friction velocity $u^*$, which in turn can be computed using the $\\tau_w$. $\\tau_w$ can be estimated using an approximation of friction factor $f$. Several relations for pipe flow friction factor are avaialable based on $Re$. Forexample,\n",
    "$$ f = 0.3164/Re^{0.25} \\ for \\ Re<10^5$$\n",
    "and based on the wall roughness $\\epsilon_{wall}$, a rough estimate within $\\pm2\\%$ is\n",
    "$$ \\frac{1}{\\sqrt{f}} =-1.8 \\log_{10} \\left[ 6.9/Re + \\left(\\frac{\\epsilon_{wall}/D}{3.7}\\right)^{1.11} \\right]$$"
   ]
  },
  {
   "cell_type": "markdown",
   "metadata": {},
   "source": [
    "The wall shear stress can be computed as\n",
    "$$\\tau_w = \\frac{1}{4}f \\frac{\\rho V^2}{2} = C_f \\frac{\\rho V^2}{2}$$\n",
    "The $C_f$ is the average skin friction coefficient and some expressions are reported at \n",
    "https://www.cfd-online.com/Wiki/Skin_friction_coefficient"
   ]
  },
  {
   "cell_type": "markdown",
   "metadata": {},
   "source": [
    "The friction velocity is then computed as\n",
    "$$ u^* = \\left( \\frac{\\tau_w}{\\rho} \\right)^{1/2} $$"
   ]
  },
  {
   "cell_type": "markdown",
   "metadata": {},
   "source": [
    "Finally, the viscous sub layer thickness computed as\n",
    "$$ \\delta_{vsl} = 5 \\frac{\\nu}{u^*}$$"
   ]
  },
  {
   "cell_type": "markdown",
   "metadata": {},
   "source": [
    "The Taylor based length scale $\\lambda$ can be computed as\n",
    "$$\\lambda_{T} = D_h \\sqrt{10} Re^{-1/2}$$"
   ]
  },
  {
   "cell_type": "markdown",
   "metadata": {},
   "source": [
    "The viscous length scale for pipe can be computed also as [1] (to be checked from a another refererence)\n",
    "$$l_v = 5.0 Re^{-7/8}$$\n",
    "and a Kolmogorov critical radius $l_{cr}$ as\n",
    "$$l_{cr} = \\left(\\frac{\\sigma^3}{\\rho^3 \\epsilon^2}\\right)^{1/5}$$\n",
    "[1]  @techreport{bravo2015high,\n",
    "  title={High fidelity simulation of atomization in diesel engine sprays},\n",
    "  author={Bravo, L and Ivey, CB and Kim, D and Bose, ST},\n",
    "  year={2015},\n",
    "  institution={ARMY RESEARCH LAB ABERDEEN PROVING GROUND MD VEHICLE TECHNOLOGY DIRECTORATE}\n",
    "}"
   ]
  },
  {
   "cell_type": "markdown",
   "metadata": {},
   "source": [
    "## Get the density and other transport properties"
   ]
  },
  {
   "cell_type": "code",
   "execution_count": 1,
   "metadata": {},
   "outputs": [
    {
     "name": "stdout",
     "output_type": "stream",
     "text": [
      "Dh Calculated 0.0015999999999999999 [m]\n",
      "Dh Manual 0.004 [m]\n",
      "mf 0.04 [kg/s]\n",
      "fluid: Water\n",
      "rho from Thermo package 998.2386619948825 [kg/m^3]\n",
      "rho 998.2379970668911 [kg/m^3]\n",
      "mu 1.005e-03 [Pa-s] or [Kg/m/s]\n",
      "nu 1.007e-06 [m^2/s]\n",
      "Pr (Cp mu/K) 7.037e+00\n",
      "satT at P[Pa] = 101325.0 is 373.124 [K]\n",
      "satP at T[K] = 293 is 2317.670 [Pa]\n",
      "satRhoVap 0.017 [kg/m3]\n",
      "muVap 9.539e-06 [Pa-s] or [Kg/m/s]\n",
      "nuVap 5.558e-04 [m^2/s]\n",
      "Ux 10.017651130675112 [m/s]\n",
      "Ux Manual Input 16 [m/s]\n",
      "Re (based on Dh) = 63551.22093297681\n",
      "Re (based on Width) = 15887.805233244202\n",
      "Re (based on Height) = 63551.22093297681\n",
      "lambda_T 5.017623169187479e-05 [m]\n"
     ]
    }
   ],
   "source": [
    "import numpy as np\n",
    "from thermo.chemical import Chemical\n",
    "from CoolProp.CoolProp import PropsSI\n",
    "\n",
    "## Input data\n",
    "H = 4e-3 #\n",
    "Din = 1e-3\n",
    "A = Din*H\n",
    "P = 2*(Din+H)\n",
    "Dh = 4*A/P\n",
    "print(\"Dh Calculated\", Dh , \"[m]\")\n",
    "# Dh manual entry\n",
    "Dh = H\n",
    "print(\"Dh Manual\", Dh , \"[m]\")\n",
    "\n",
    "## Mass flow rate\n",
    "mf = 2.4/60\n",
    "print(\"mf\", mf, \"[kg/s]\")\n",
    "\n",
    "## Get the fluid properties\n",
    "fluidName = \"Water\"\n",
    "T_fluid = 293  # temperature\n",
    "P_fluid = 1.01325e5  # pressure\n",
    "\n",
    "fluid = Chemical(fluidName)\n",
    "fluid.calculate(T=T_fluid, P=P_fluid)\n",
    "print(\"fluid:\", fluidName)\n",
    "rho = fluid.rho\n",
    "print(\"rho from Thermo package\", rho , \"[kg/m^3]\")\n",
    "# get density from CoolProp\n",
    "rho = PropsSI('D','T',T_fluid,'P',P_fluid,fluidName)\n",
    "print(\"rho\", rho , \"[kg/m^3]\")\n",
    "mu = PropsSI('V','T',T_fluid,'P',P_fluid,fluidName)\n",
    "print(\"mu\", \"{:.3e}\".format(mu), \"[Pa-s] or [Kg/m/s]\")\n",
    "nu = mu/rho\n",
    "print(\"nu\", \"{:.3e}\".format(nu), \"[m^2/s]\")\n",
    "Pr = PropsSI('Prandtl','T',T_fluid,'P',P_fluid,fluidName)\n",
    "print(\"Pr (Cp mu/K)\", \"{:.3e}\".format(Pr))\n",
    "\n",
    "\n",
    "#Saturation properties\n",
    "#Saturation temperature of fluid at P_fluid pressure\n",
    "satT = PropsSI('T','P',P_fluid,'Q',0,fluidName)\n",
    "print(\"satT at P[Pa] =\",P_fluid, \"is\" , \"{:.3f}\".format(satT), \"[K]\")\n",
    "\n",
    "#Saturation pressure of fluid at T_fluid temperature\n",
    "satP = PropsSI('P','T',T_fluid,'Q',0,fluidName)\n",
    "print(\"satP at T[K] =\",T_fluid, \"is\" ,\"{:.3f}\".format(satP), \"[Pa]\")\n",
    "\n",
    "#Saturated vapor density of fluid at T_fluid\n",
    "satRhoVap = PropsSI('D','T',T_fluid,'Q',1,fluidName)\n",
    "print(\"satRhoVap\", \"{:.3f}\".format(satRhoVap), \"[kg/m3]\")\n",
    "\n",
    "#Sat vapor viscosity at given temperature\n",
    "muVap = PropsSI('V','T',T_fluid,'Q',1,fluidName)\n",
    "print(\"muVap\", \"{:.3e}\".format(muVap), \"[Pa-s] or [Kg/m/s]\")\n",
    "nuVap = muVap/satRhoVap\n",
    "print(\"nuVap\", \"{:.3e}\".format(nuVap), \"[m^2/s]\")\n",
    "\n",
    "Ux = mf/(A*rho) # also need the actual reduced area\n",
    "print(\"Ux\", Ux, \"[m/s]\")\n",
    "Ux = 16\n",
    "print(\"Ux Manual Input\", Ux, \"[m/s]\")\n",
    "Re = rho*Ux*Dh/mu\n",
    "print(\"Re (based on Dh) =\", Re)\n",
    "\n",
    "Re = rho*Ux*Din/mu\n",
    "print(\"Re (based on Width) =\", Re)\n",
    "\n",
    "#rho = 1000\n",
    "#mu = 1e-5\n",
    "Re = rho*Ux*H/mu\n",
    "print(\"Re (based on Height) =\", Re)\n",
    "\n",
    "Dh = H\n",
    "# Taylor based length scale\n",
    "lambda_T = Dh*(10**0.5)*Re**(-0.5)\n",
    "print(\"lambda_T\", lambda_T,  \"[m]\")"
   ]
  },
  {
   "cell_type": "code",
   "execution_count": 2,
   "metadata": {},
   "outputs": [
    {
     "name": "stdout",
     "output_type": "stream",
     "text": [
      "Re 63551.22093297681\n",
      "f = 0.019927623081078805\n",
      "Cf = 0.006350431179146555\n",
      "tau_w 636.5603376243218\n",
      "tau_w_Cf 811.4229377001463\n",
      "uTau 0.901584821816982\n",
      "uStar 0.7985511496419762\n",
      "viscous sub layer thickness = 6.30555532460374e-06\n",
      "viscous sub layer thickness Cf = 5.584952554376019e-06\n",
      "lv 0.00031349931274718385\n",
      "yPlus =  1.0 requires first cell height [m] 1.261e-06\n",
      "yPlus =  1.0 requires first cell height [m] with Cf  1.117e-06\n"
     ]
    }
   ],
   "source": [
    "## print Re\n",
    "print(\"Re\",Re)\n",
    "\n",
    "## Friction Factor\n",
    "f = 0.3164/Re**0.25\n",
    "print(\"f =\", f)\n",
    "# Simplified Cf for plate\n",
    "Cf = 0.058/Re**0.2\n",
    "print(\"Cf =\", Cf)\n",
    "\n",
    "tau_w = 0.25*f*0.5*rho*Ux**2\n",
    "print(\"tau_w\", tau_w)\n",
    "tau_w_Cf = 0.5*Cf*rho*Ux**2\n",
    "print(\"tau_w_Cf\", tau_w_Cf)\n",
    "\n",
    "uTau = (tau_w_Cf/rho)**0.5\n",
    "print(\"uTau\", uTau)\n",
    "uStar = pow(tau_w/rho,0.5)\n",
    "uStar = (tau_w/rho)**0.5\n",
    "print(\"uStar\", uStar)\n",
    "delta_vsl = 5*nu/uStar\n",
    "delta_vsl_Cf = 5*nu/uTau\n",
    "print(\"viscous sub layer thickness =\", delta_vsl)\n",
    "print(\"viscous sub layer thickness Cf =\", delta_vsl_Cf)\n",
    "lv = 5.0*pow(Re,(-7.0/8.0))\n",
    "print(\"lv\", lv)\n",
    "\n",
    "## Cell point bsaed on yPlus\n",
    "yPlus = 1.0\n",
    "firstCellHeight = yPlus*mu/(uStar*rho)\n",
    "firstCellHeight_Cf = yPlus*mu/(uTau*rho)\n",
    "print('yPlus = ', yPlus, \"requires first cell height [m]\", \"{:.3e}\".format(firstCellHeight))\n",
    "print('yPlus = ', yPlus, \"requires first cell height [m] with Cf \", \"{:.3e}\".format(firstCellHeight_Cf))"
   ]
  },
  {
   "cell_type": "code",
   "execution_count": 3,
   "metadata": {},
   "outputs": [
    {
     "name": "stdout",
     "output_type": "stream",
     "text": [
      "Din 0.001\n",
      "mixingLength 5e-05\n",
      "UxPrime 0.8\n",
      "k 0.32000000000000006 [m^2/s^2]\n",
      "epsilon 5.948902e+02 [m^2/s^3]\n",
      "nut 1.549193338482967e-05 [m^2/s]\n",
      "omega 2.065591e+04 [1/s]\n",
      "omega_wall 6.576729e+06\n",
      "DeltaT 2.3437500000000003e-07\n",
      "DeltaT_CoAc 3.535533905932738e-09\n",
      "Prandtl Number  7.036891065061594\n",
      "Turbulent Prandtl Number Prt  0.3348422549635111\n",
      "mut =  0.015464636552766073 [Pa-s] or [Kg/m/s]\n",
      "alphat (mut/Prt), Prt = 0.3348422549635111 gives 4.618484e-02 [Pa-s] or [Kg/m/s]\n",
      "alphat based on Prt=0.7 is 2.209234e-02 [Pa-s] or [Kg/m/s]\n"
     ]
    }
   ],
   "source": [
    "lt_scale = 5 # turbulent lenght scale\n",
    "print(\"Din\", Din)\n",
    "lt = Din*lt_scale/100\n",
    "print(\"mixingLength\", lt)\n",
    "It = 5 # turbulence intensity\n",
    "UxPrime = Ux*It/100\n",
    "print(\"UxPrime\", UxPrime)\n",
    "k = 0.5*(UxPrime**2)\n",
    "print(\"k\", k,  \"[m^2/s^2]\")\n",
    "epsilon = 0.09**0.75*k**1.5/lt\n",
    "print(\"epsilon\", '{0:e}'.format(epsilon), \"[m^2/s^3]\")\n",
    "nut = 0.09*k**2/epsilon\n",
    "print(\"nut\", nut,  \"[m^2/s]\")\n",
    "omega = 0.09**(-0.25)*k**0.5/lt\n",
    "print(\"omega\", '{0:e}'.format(omega), \"[1/s]\")\n",
    "deltaD1 = 89.4/20 #distanToWall\n",
    "deltaD1 = 3.5e-6\n",
    "omega_wall = 6*nu/(0.075*deltaD1**2)\n",
    "print(\"omega_wall\", '{0:e}'.format(omega_wall))\n",
    "\n",
    "\n",
    "\n",
    "Co = 0.75\n",
    "nyCells = 10\n",
    "DeltaX = Din/10\n",
    "DeltaX = 5e-6\n",
    "DeltaT = Co*DeltaX/Ux\n",
    "print(\"DeltaT\", DeltaT)\n",
    "psi_l = 5e-7\n",
    "psi_v = 2.5e-6\n",
    "CoAc = 12\n",
    "DeltaT_CoAc = DeltaX*(psi_l**0.5)\n",
    "print(\"DeltaT_CoAc\", DeltaT_CoAc)\n",
    "\n",
    "# Prandtl number for fluid $$Pr_t = 6.374Re^{-0.238} Pr^{-0.161}$$\n",
    "Pr_l =  13\n",
    "Pr_l = Pr # from coolprop\n",
    "print(\"Prandtl Number \", Pr)\n",
    "Prt_l = 6.374*pow(Re,-0.238)*pow(Pr_l,-0.161)\n",
    "print(\"Turbulent Prandtl Number Prt \", Prt_l)\n",
    "mut = nut*rho\n",
    "print(\"mut = \", mut, \"[Pa-s] or [Kg/m/s]\")\n",
    "alphat = mut/Prt_l\n",
    "print(\"alphat (mut/Prt), Prt =\",Prt_l, \"gives\", '{0:e}'.format(alphat), \"[Pa-s] or [Kg/m/s]\")\n",
    "alphat = mut/0.7\n",
    "print(\"alphat based on Prt=0.7 is\", '{0:e}'.format(alphat), \"[Pa-s] or [Kg/m/s]\")"
   ]
  },
  {
   "cell_type": "markdown",
   "metadata": {},
   "source": [
    "# Setting the expansion Ratio of cells in blockMesh"
   ]
  },
  {
   "cell_type": "markdown",
   "metadata": {},
   "source": [
    "$R$ is the final to first cell size ratio. \n",
    "$r$ is the first to second expansion ratio.\n",
    "$n$ is the number of cells\n",
    "$\\delta x_s$ is the smallest cell size\n",
    "$l$ is the total length. Then\n",
    "$$r = R^{\\frac{1}{n-1}}$$\n",
    "$$\\delta x_s = l \\frac{r-1}{\\alpha r - 1}$$\n",
    "and\n",
    "$$ \\alpha = R \\ for \\ R>1$$\n",
    "\n",
    "\\begin{equation*}\n",
    "\t\\alpha = 1-r^{-n} + r^{-1} \\ for \\ R<1\n",
    "\\end{equation*}\n",
    "\n",
    "$$ r = \\frac{l - \\delta x_s}{l - \\delta x_s R}$$\n",
    "$$n = \\frac{\\ln R}{\\ln r}+1$$\n",
    "\n",
    "Setting the double expansion ration given as\n",
    "\n",
    "(0.05 0.11 10)    // 20% x-dir, 30% cells, expansion = 4 \n",
    "\n",
    "(0.9 0.78 1)    // 60% x-dir, 40% cells, expansion = 1 \n",
    "\n",
    "(0.05 0.11 0.1) // 20% x-dir, 30% cells, expansion = 0.25 (1/4) "
   ]
  }
 ],
 "metadata": {
  "kernelspec": {
   "display_name": "Python 3",
   "language": "python",
   "name": "python3"
  },
  "language_info": {
   "codemirror_mode": {
    "name": "ipython",
    "version": 3
   },
   "file_extension": ".py",
   "mimetype": "text/x-python",
   "name": "python",
   "nbconvert_exporter": "python",
   "pygments_lexer": "ipython3",
   "version": "3.5.2"
  }
 },
 "nbformat": 4,
 "nbformat_minor": 2
}
